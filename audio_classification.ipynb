{
 "cells": [
  {
   "cell_type": "markdown",
   "id": "ac20f252-08df-4e82-9752-468ad0de7650",
   "metadata": {
    "tags": []
   },
   "source": [
    "# Import Part"
   ]
  },
  {
   "cell_type": "code",
   "execution_count": 105,
   "id": "a8faf032-b598-457f-9b60-6c8bc426c2d9",
   "metadata": {
    "tags": []
   },
   "outputs": [],
   "source": [
    "import os\n",
    "import numpy as np\n",
    "import tensorflow as tf\n",
    "from tensorflow.keras.layers import Dense, GlobalAveragePooling2D, Dropout, Conv2D, Flatten, MaxPooling2D, Input, BatchNormalization, LSTM\n",
    "from sklearn.manifold import TSNE\n",
    "import matplotlib.pyplot as plt\n",
    "from tensorflow.keras.preprocessing.image import ImageDataGenerator\n",
    "from sklearn.model_selection import train_test_split\n",
    "import shutil\n",
    "from sklearn.metrics import accuracy_score, precision_score, recall_score, f1_score\n",
    "import cv2\n",
    "from time import time\n",
    "from tensorflow.keras.models import Sequential, Model\n",
    "from tensorflow.keras.callbacks import ReduceLROnPlateau, EarlyStopping\n",
    "import kaggle\n",
    "import librosa\n",
    "import pickle"
   ]
  },
  {
   "cell_type": "markdown",
   "id": "60703896-2657-4266-a5f2-d3cc2b30633b",
   "metadata": {
    "tags": []
   },
   "source": [
    "# GPU Using"
   ]
  },
  {
   "cell_type": "code",
   "execution_count": 2,
   "id": "c050486f-0a20-4cc0-90fe-666bcb4fe8ce",
   "metadata": {
    "tags": []
   },
   "outputs": [],
   "source": [
    "gpus = tf.config.experimental.list_physical_devices('GPU')\n",
    "for gpu in gpus: \n",
    "    tf.config.experimental.set_memory_growth(gpu, True)"
   ]
  },
  {
   "cell_type": "code",
   "execution_count": 3,
   "id": "7e4f0b76-4d68-4c5b-a0c3-cd339ba3d956",
   "metadata": {
    "tags": []
   },
   "outputs": [
    {
     "name": "stdout",
     "output_type": "stream",
     "text": [
      "1 Physical GPU, 1 Logical GPUs\n"
     ]
    }
   ],
   "source": [
    "gpus = tf.config.list_physical_devices('GPU')\n",
    "if gpus: \n",
    "    tf.config.set_logical_device_configuration(\n",
    "        gpus[0],\n",
    "        [tf.config.LogicalDeviceConfiguration(memory_limit=5292)]\n",
    "    )\n",
    "\n",
    "logical_gpus = tf.config.list_logical_devices('GPU')\n",
    "print(len(gpus), \"Physical GPU,\", len(logical_gpus), \"Logical GPUs\")"
   ]
  },
  {
   "cell_type": "markdown",
   "id": "a1500cbe-7cdb-4b01-bf49-ae29878dc5e5",
   "metadata": {},
   "source": [
    "# Kagggle API downloading"
   ]
  },
  {
   "cell_type": "code",
   "execution_count": 4,
   "id": "d481bd2c-cb4c-43c6-b2d8-684bff045d7f",
   "metadata": {
    "tags": []
   },
   "outputs": [
    {
     "name": "stdout",
     "output_type": "stream",
     "text": [
      "Dataset URL: https://www.kaggle.com/datasets/mehanat96/major-vs-minor-guitar-chords\n"
     ]
    }
   ],
   "source": [
    "kaggle.api.dataset_download_files(dataset = \"mehanat96/major-vs-minor-guitar-chords\", path='dataset', unzip=True)"
   ]
  },
  {
   "cell_type": "markdown",
   "id": "39f5c6f1-b3ec-45cb-91b4-cdb2f45191b8",
   "metadata": {},
   "source": [
    "# Setting parameters"
   ]
  },
  {
   "cell_type": "code",
   "execution_count": 237,
   "id": "307a895d-db6b-43c8-9578-cd053f544e60",
   "metadata": {
    "tags": []
   },
   "outputs": [],
   "source": [
    "DATA_DIR = \"dataset\"\n",
    "SR = 11025 * 2 \n",
    "N_MFCC = 40 \n",
    "MAX_LEN = 100\n",
    "LOG_DIR = \"logs\"\n",
    "learning_rate = 0.001 \n",
    "EPOCHS = 1000"
   ]
  },
  {
   "cell_type": "markdown",
   "id": "2db586ff-d67f-4138-948b-63d5d1d43144",
   "metadata": {
    "tags": []
   },
   "source": [
    "# Extracting MFCC"
   ]
  },
  {
   "cell_type": "code",
   "execution_count": 238,
   "id": "835603a8-9c65-4f37-820b-7d47aa9a14d0",
   "metadata": {
    "tags": []
   },
   "outputs": [],
   "source": [
    "def extract_features(file_path, sr=SR, n_mfcc=N_MFCC, max_len=MAX_LEN):\n",
    "    try:\n",
    "        audio, _ = librosa.load(file_path, sr=sr)\n",
    "        mfcc = librosa.feature.mfcc(y=audio, sr=sr, n_mfcc=n_mfcc)\n",
    "        if mfcc.shape[1] < max_len:\n",
    "            pad_width = max_len - mfcc.shape[1]\n",
    "            mfcc = np.pad(mfcc, pad_width=((0, 0), (0, pad_width)), mode='constant')\n",
    "        else:\n",
    "            mfcc = mfcc[:, :max_len]\n",
    "        return mfcc.T \n",
    "    except Exception as e:\n",
    "        print(f\"Ошибка обработки файла {file_path}: {e}\")\n",
    "        return None"
   ]
  },
  {
   "cell_type": "markdown",
   "id": "31bafae1-820f-4845-bf3e-2affe9083926",
   "metadata": {
    "tags": []
   },
   "source": [
    "# Audio download and preprocessing"
   ]
  },
  {
   "cell_type": "code",
   "execution_count": 239,
   "id": "758fdd8d-4dc2-4aec-8bbb-aeff7d146732",
   "metadata": {
    "tags": []
   },
   "outputs": [],
   "source": [
    "def process_dataset(data_dir):\n",
    "    X, y = [], []\n",
    "    label_id = 0\n",
    "    label_map = {}\n",
    "    for label in os.listdir(data_dir):\n",
    "        class_dir = os.path.join(data_dir, label)\n",
    "        if not os.path.isdir(class_dir):\n",
    "            continue\n",
    "        label_map[label] = label_id\n",
    "        print(f\"Обработка папки: {class_dir}\")\n",
    "        print(f\"Найдено файлов: {len(os.listdir(class_dir))}\")\n",
    "        for file in os.listdir(class_dir):\n",
    "            if file.endswith(\".wav\"):\n",
    "                file_path = os.path.join(class_dir, file)\n",
    "                features = extract_features(file_path)\n",
    "                if features is not None:\n",
    "                    X.append(features)\n",
    "                    y.append(label_id)\n",
    "        label_id += 1\n",
    "    return np.array(X), np.array(y), label_map"
   ]
  },
  {
   "cell_type": "markdown",
   "id": "83eb8d6b-9d19-43fb-90ae-6569a845f80b",
   "metadata": {},
   "source": [
    "# Data transformation for training"
   ]
  },
  {
   "cell_type": "code",
   "execution_count": 240,
   "id": "8f1d1d66-9ab8-41d3-85a0-8743f067fe41",
   "metadata": {
    "tags": []
   },
   "outputs": [
    {
     "name": "stdout",
     "output_type": "stream",
     "text": [
      "Обработка папки: dataset\\major\n",
      "Найдено файлов: 250\n",
      "Обработка папки: dataset\\minor\n",
      "Найдено файлов: 250\n"
     ]
    }
   ],
   "source": [
    "X, y, label_map = process_dataset(DATA_DIR)\n",
    "X = X[..., np.newaxis]\n",
    "y = tf.keras.utils.to_categorical(y)"
   ]
  },
  {
   "cell_type": "code",
   "execution_count": 241,
   "id": "b0b4f12a-3d30-42e5-86ed-054a635ef149",
   "metadata": {
    "tags": []
   },
   "outputs": [],
   "source": [
    "X_train, X_val, y_train, y_val = train_test_split(X, y, test_size=0.2, random_state=42)"
   ]
  },
  {
   "cell_type": "code",
   "execution_count": 246,
   "id": "986cce7f-6706-4f85-a164-e32e7ace9cbe",
   "metadata": {
    "tags": []
   },
   "outputs": [],
   "source": [
    "cnn_model = Sequential([\n",
    "    Conv2D(64, (3, 3), activation='relu', input_shape=(MAX_LEN, N_MFCC, 1), kernel_regularizer=tf.keras.regularizers.l2(0.01)),\n",
    "    BatchNormalization(),\n",
    "    MaxPooling2D((2, 2)),\n",
    "    Dropout(0.4),\n",
    "\n",
    "    Conv2D(128, (3, 3), activation='relu', kernel_regularizer=tf.keras.regularizers.l2(0.01)),\n",
    "    BatchNormalization(),\n",
    "    MaxPooling2D((2, 2)),\n",
    "    Dropout(0.4),\n",
    "\n",
    "    Conv2D(256, (3, 3), activation='relu', kernel_regularizer=tf.keras.regularizers.l2(0.01)),\n",
    "    BatchNormalization(),\n",
    "    MaxPooling2D((2, 2)),\n",
    "    Dropout(0.5),\n",
    "\n",
    "    Flatten(),\n",
    "    Dense(256, activation='relu', kernel_regularizer=tf.keras.regularizers.l2(0.01)),\n",
    "    Dropout(0.6),\n",
    "    Dense(len(label_map), activation='softmax')\n",
    "])"
   ]
  },
  {
   "cell_type": "code",
   "execution_count": 247,
   "id": "7fc1a8c1-9ae5-4583-a569-9c5b3811fcde",
   "metadata": {
    "tags": []
   },
   "outputs": [],
   "source": [
    "cnn_model.compile(\n",
    "    optimizer=tf.keras.optimizers.Adam(learning_rate=learning_rate),\n",
    "    loss='binary_crossentropy',\n",
    "    metrics=['accuracy']\n",
    ")"
   ]
  },
  {
   "cell_type": "code",
   "execution_count": 248,
   "id": "4a784fdb-8811-4010-b7aa-941f4f2a2af2",
   "metadata": {
    "tags": []
   },
   "outputs": [],
   "source": [
    "tensorboard_callback = tf.keras.callbacks.TensorBoard(log_dir=LOG_DIR, histogram_freq=1)"
   ]
  },
  {
   "cell_type": "code",
   "execution_count": 249,
   "id": "2331cf75-29c8-43d3-9b4f-3238de032aae",
   "metadata": {
    "tags": []
   },
   "outputs": [
    {
     "name": "stdout",
     "output_type": "stream",
     "text": [
      "Epoch 1/1000\n",
      "13/13 [==============================] - 1s 50ms/step - loss: 9.4774 - accuracy: 0.5575 - val_loss: 7.8912 - val_accuracy: 0.6800\n",
      "Epoch 2/1000\n",
      "13/13 [==============================] - 0s 36ms/step - loss: 8.5495 - accuracy: 0.5525 - val_loss: 8.2475 - val_accuracy: 0.4500\n",
      "Epoch 3/1000\n",
      "13/13 [==============================] - 0s 38ms/step - loss: 7.2217 - accuracy: 0.6325 - val_loss: 7.0694 - val_accuracy: 0.4700\n",
      "Epoch 4/1000\n",
      "13/13 [==============================] - 0s 37ms/step - loss: 6.5162 - accuracy: 0.6850 - val_loss: 6.4395 - val_accuracy: 0.4600\n",
      "Epoch 5/1000\n",
      "13/13 [==============================] - 0s 38ms/step - loss: 5.9946 - accuracy: 0.6850 - val_loss: 5.7594 - val_accuracy: 0.6000\n",
      "Epoch 6/1000\n",
      "13/13 [==============================] - 0s 38ms/step - loss: 5.4987 - accuracy: 0.7075 - val_loss: 5.4089 - val_accuracy: 0.5100\n",
      "Epoch 7/1000\n",
      "13/13 [==============================] - 0s 39ms/step - loss: 5.0616 - accuracy: 0.7225 - val_loss: 4.8850 - val_accuracy: 0.7700\n",
      "Epoch 8/1000\n",
      "13/13 [==============================] - 0s 37ms/step - loss: 4.6525 - accuracy: 0.7575 - val_loss: 4.6044 - val_accuracy: 0.6000\n",
      "Epoch 9/1000\n",
      "13/13 [==============================] - 0s 39ms/step - loss: 4.3084 - accuracy: 0.7750 - val_loss: 4.2152 - val_accuracy: 0.7600\n",
      "Epoch 10/1000\n",
      "13/13 [==============================] - 0s 36ms/step - loss: 4.0247 - accuracy: 0.7350 - val_loss: 3.8958 - val_accuracy: 0.8000\n",
      "Epoch 11/1000\n",
      "13/13 [==============================] - 1s 43ms/step - loss: 3.7192 - accuracy: 0.8025 - val_loss: 3.6479 - val_accuracy: 0.8000\n",
      "Epoch 12/1000\n",
      "13/13 [==============================] - 0s 38ms/step - loss: 3.4535 - accuracy: 0.8100 - val_loss: 3.6755 - val_accuracy: 0.7200\n",
      "Epoch 13/1000\n",
      "13/13 [==============================] - 0s 36ms/step - loss: 3.2570 - accuracy: 0.8100 - val_loss: 4.6538 - val_accuracy: 0.5500\n",
      "Epoch 14/1000\n",
      "13/13 [==============================] - 1s 43ms/step - loss: 3.0575 - accuracy: 0.8200 - val_loss: 3.0713 - val_accuracy: 0.7600\n",
      "Epoch 15/1000\n",
      "13/13 [==============================] - 1s 43ms/step - loss: 2.8641 - accuracy: 0.8325 - val_loss: 4.0553 - val_accuracy: 0.6400\n",
      "Epoch 16/1000\n",
      "13/13 [==============================] - 1s 43ms/step - loss: 2.6971 - accuracy: 0.8475 - val_loss: 3.7936 - val_accuracy: 0.6500\n",
      "Epoch 17/1000\n",
      "13/13 [==============================] - 1s 44ms/step - loss: 2.5499 - accuracy: 0.8375 - val_loss: 3.9591 - val_accuracy: 0.6400\n",
      "Epoch 18/1000\n",
      "13/13 [==============================] - 0s 36ms/step - loss: 2.3745 - accuracy: 0.8850 - val_loss: 4.6241 - val_accuracy: 0.5500\n",
      "Epoch 19/1000\n",
      "13/13 [==============================] - 1s 57ms/step - loss: 2.3116 - accuracy: 0.8400 - val_loss: 3.8768 - val_accuracy: 0.5900\n",
      "Epoch 20/1000\n",
      "13/13 [==============================] - 0s 36ms/step - loss: 2.1747 - accuracy: 0.8525 - val_loss: 3.0724 - val_accuracy: 0.7000\n",
      "Epoch 21/1000\n",
      "13/13 [==============================] - 1s 43ms/step - loss: 2.0590 - accuracy: 0.8750 - val_loss: 3.7596 - val_accuracy: 0.6000\n",
      "Epoch 22/1000\n",
      "13/13 [==============================] - 0s 37ms/step - loss: 1.9771 - accuracy: 0.8775 - val_loss: 2.5654 - val_accuracy: 0.7900\n",
      "Epoch 23/1000\n",
      "13/13 [==============================] - 0s 38ms/step - loss: 1.8523 - accuracy: 0.8875 - val_loss: 2.6473 - val_accuracy: 0.7500\n",
      "Epoch 24/1000\n",
      "13/13 [==============================] - 0s 38ms/step - loss: 1.8128 - accuracy: 0.8975 - val_loss: 3.4981 - val_accuracy: 0.6700\n",
      "Epoch 25/1000\n",
      "13/13 [==============================] - 0s 39ms/step - loss: 1.7631 - accuracy: 0.8850 - val_loss: 2.1716 - val_accuracy: 0.7600\n",
      "Epoch 26/1000\n",
      "13/13 [==============================] - 1s 42ms/step - loss: 1.6986 - accuracy: 0.9025 - val_loss: 1.8696 - val_accuracy: 0.9000\n",
      "Epoch 27/1000\n",
      "13/13 [==============================] - 0s 36ms/step - loss: 1.6048 - accuracy: 0.9275 - val_loss: 2.4440 - val_accuracy: 0.7700\n",
      "Epoch 28/1000\n",
      "13/13 [==============================] - 0s 41ms/step - loss: 1.6174 - accuracy: 0.9025 - val_loss: 1.6987 - val_accuracy: 0.8800\n",
      "Epoch 29/1000\n",
      "13/13 [==============================] - 0s 41ms/step - loss: 1.5338 - accuracy: 0.8900 - val_loss: 1.6729 - val_accuracy: 0.8900\n",
      "Epoch 30/1000\n",
      "13/13 [==============================] - 1s 41ms/step - loss: 1.4555 - accuracy: 0.9275 - val_loss: 2.0450 - val_accuracy: 0.8200\n",
      "Epoch 31/1000\n",
      "13/13 [==============================] - 1s 43ms/step - loss: 1.3778 - accuracy: 0.9425 - val_loss: 2.7927 - val_accuracy: 0.7500\n",
      "Epoch 32/1000\n",
      "13/13 [==============================] - 0s 36ms/step - loss: 1.3691 - accuracy: 0.9300 - val_loss: 1.5053 - val_accuracy: 0.9100\n",
      "Epoch 33/1000\n",
      "13/13 [==============================] - 0s 37ms/step - loss: 1.3353 - accuracy: 0.9300 - val_loss: 1.4846 - val_accuracy: 0.8600\n",
      "Epoch 34/1000\n",
      "13/13 [==============================] - 0s 36ms/step - loss: 1.3059 - accuracy: 0.9375 - val_loss: 1.7844 - val_accuracy: 0.7700\n",
      "Epoch 35/1000\n",
      "13/13 [==============================] - 0s 36ms/step - loss: 1.2825 - accuracy: 0.9175 - val_loss: 1.9996 - val_accuracy: 0.7900\n",
      "Epoch 36/1000\n",
      "13/13 [==============================] - 0s 38ms/step - loss: 1.2275 - accuracy: 0.9350 - val_loss: 1.3916 - val_accuracy: 0.8900\n",
      "Epoch 37/1000\n",
      "13/13 [==============================] - 0s 36ms/step - loss: 1.2513 - accuracy: 0.9425 - val_loss: 2.5410 - val_accuracy: 0.7500\n",
      "Epoch 38/1000\n",
      "13/13 [==============================] - 0s 37ms/step - loss: 1.2075 - accuracy: 0.9375 - val_loss: 1.6678 - val_accuracy: 0.8000\n",
      "Epoch 39/1000\n",
      "13/13 [==============================] - 0s 34ms/step - loss: 1.2102 - accuracy: 0.9225 - val_loss: 2.2223 - val_accuracy: 0.7400\n",
      "Epoch 40/1000\n",
      "13/13 [==============================] - 0s 35ms/step - loss: 1.1935 - accuracy: 0.9350 - val_loss: 1.8037 - val_accuracy: 0.8000\n",
      "Epoch 41/1000\n",
      "13/13 [==============================] - 1s 43ms/step - loss: 1.2331 - accuracy: 0.9075 - val_loss: 1.2542 - val_accuracy: 0.9100\n",
      "Epoch 42/1000\n",
      "13/13 [==============================] - 0s 37ms/step - loss: 1.1482 - accuracy: 0.9425 - val_loss: 1.7841 - val_accuracy: 0.8200\n",
      "Epoch 43/1000\n",
      "13/13 [==============================] - 0s 36ms/step - loss: 1.1930 - accuracy: 0.9100 - val_loss: 1.6858 - val_accuracy: 0.8200\n",
      "Epoch 44/1000\n",
      "13/13 [==============================] - 0s 38ms/step - loss: 1.1723 - accuracy: 0.9400 - val_loss: 2.1704 - val_accuracy: 0.8200\n",
      "Epoch 45/1000\n",
      "13/13 [==============================] - 0s 39ms/step - loss: 1.1588 - accuracy: 0.9450 - val_loss: 1.7279 - val_accuracy: 0.8200\n",
      "Epoch 46/1000\n",
      "13/13 [==============================] - 0s 39ms/step - loss: 1.1179 - accuracy: 0.9475 - val_loss: 1.6441 - val_accuracy: 0.8000\n",
      "Epoch 47/1000\n",
      "13/13 [==============================] - 0s 37ms/step - loss: 1.0814 - accuracy: 0.9650 - val_loss: 1.7884 - val_accuracy: 0.8100\n",
      "Epoch 48/1000\n",
      "13/13 [==============================] - 0s 37ms/step - loss: 1.1733 - accuracy: 0.9225 - val_loss: 1.4188 - val_accuracy: 0.8500\n",
      "Epoch 49/1000\n",
      "13/13 [==============================] - 0s 38ms/step - loss: 1.1718 - accuracy: 0.9425 - val_loss: 3.5054 - val_accuracy: 0.6700\n",
      "Epoch 50/1000\n",
      "13/13 [==============================] - 0s 35ms/step - loss: 1.1512 - accuracy: 0.9525 - val_loss: 1.8584 - val_accuracy: 0.8000\n",
      "Epoch 51/1000\n",
      "13/13 [==============================] - 0s 36ms/step - loss: 1.0747 - accuracy: 0.9575 - val_loss: 1.9630 - val_accuracy: 0.7800\n",
      "Epoch 52/1000\n",
      "13/13 [==============================] - 0s 37ms/step - loss: 1.0875 - accuracy: 0.9550 - val_loss: 2.4711 - val_accuracy: 0.7400\n",
      "Epoch 53/1000\n",
      "13/13 [==============================] - 0s 38ms/step - loss: 1.0807 - accuracy: 0.9425 - val_loss: 1.4528 - val_accuracy: 0.8700\n",
      "Epoch 54/1000\n",
      "13/13 [==============================] - 0s 36ms/step - loss: 1.0937 - accuracy: 0.9525 - val_loss: 1.9281 - val_accuracy: 0.8300\n",
      "Epoch 55/1000\n",
      "13/13 [==============================] - 0s 38ms/step - loss: 1.0364 - accuracy: 0.9650 - val_loss: 1.8420 - val_accuracy: 0.8200\n",
      "Epoch 56/1000\n",
      "13/13 [==============================] - 0s 38ms/step - loss: 1.0363 - accuracy: 0.9450 - val_loss: 1.5791 - val_accuracy: 0.8200\n",
      "Epoch 57/1000\n",
      "13/13 [==============================] - 0s 38ms/step - loss: 1.0153 - accuracy: 0.9575 - val_loss: 1.2471 - val_accuracy: 0.9200\n",
      "Epoch 58/1000\n",
      "13/13 [==============================] - 0s 39ms/step - loss: 0.9810 - accuracy: 0.9625 - val_loss: 2.0984 - val_accuracy: 0.8100\n",
      "Epoch 59/1000\n",
      "13/13 [==============================] - 0s 38ms/step - loss: 0.9273 - accuracy: 0.9700 - val_loss: 1.3961 - val_accuracy: 0.8700\n",
      "Epoch 60/1000\n",
      "13/13 [==============================] - 0s 39ms/step - loss: 0.9171 - accuracy: 0.9575 - val_loss: 2.0815 - val_accuracy: 0.8100\n",
      "Epoch 61/1000\n",
      "13/13 [==============================] - 0s 39ms/step - loss: 0.8498 - accuracy: 0.9725 - val_loss: 1.6070 - val_accuracy: 0.8200\n",
      "Epoch 62/1000\n",
      "13/13 [==============================] - 0s 39ms/step - loss: 0.8599 - accuracy: 0.9625 - val_loss: 1.2704 - val_accuracy: 0.8700\n",
      "Epoch 63/1000\n",
      "13/13 [==============================] - 0s 37ms/step - loss: 0.7848 - accuracy: 0.9850 - val_loss: 1.0695 - val_accuracy: 0.8800\n",
      "Epoch 64/1000\n",
      "13/13 [==============================] - 0s 39ms/step - loss: 0.7420 - accuracy: 0.9850 - val_loss: 1.1706 - val_accuracy: 0.8600\n",
      "Epoch 65/1000\n",
      "13/13 [==============================] - 0s 37ms/step - loss: 0.8032 - accuracy: 0.9550 - val_loss: 1.0124 - val_accuracy: 0.9000\n",
      "Epoch 66/1000\n",
      "13/13 [==============================] - 0s 39ms/step - loss: 0.7951 - accuracy: 0.9575 - val_loss: 0.9764 - val_accuracy: 0.9300\n",
      "Epoch 67/1000\n",
      "13/13 [==============================] - 0s 36ms/step - loss: 0.8532 - accuracy: 0.9425 - val_loss: 1.4433 - val_accuracy: 0.8300\n",
      "Epoch 68/1000\n",
      "13/13 [==============================] - 0s 38ms/step - loss: 0.9317 - accuracy: 0.9500 - val_loss: 1.4971 - val_accuracy: 0.7900\n",
      "Epoch 69/1000\n",
      "13/13 [==============================] - 0s 38ms/step - loss: 1.0234 - accuracy: 0.9500 - val_loss: 1.6056 - val_accuracy: 0.8300\n",
      "Epoch 70/1000\n",
      "13/13 [==============================] - 0s 38ms/step - loss: 1.0082 - accuracy: 0.9525 - val_loss: 1.4377 - val_accuracy: 0.8700\n",
      "Epoch 71/1000\n",
      "13/13 [==============================] - 0s 37ms/step - loss: 1.0735 - accuracy: 0.9375 - val_loss: 1.2828 - val_accuracy: 0.9100\n",
      "Epoch 72/1000\n",
      "13/13 [==============================] - 0s 40ms/step - loss: 1.0712 - accuracy: 0.9550 - val_loss: 1.6052 - val_accuracy: 0.8800\n",
      "Epoch 73/1000\n",
      "13/13 [==============================] - 0s 37ms/step - loss: 1.1143 - accuracy: 0.9225 - val_loss: 1.7988 - val_accuracy: 0.7500\n",
      "Epoch 74/1000\n",
      "13/13 [==============================] - 0s 38ms/step - loss: 1.0791 - accuracy: 0.9400 - val_loss: 1.3273 - val_accuracy: 0.8700\n",
      "Epoch 75/1000\n",
      "13/13 [==============================] - 0s 39ms/step - loss: 0.9879 - accuracy: 0.9750 - val_loss: 1.7732 - val_accuracy: 0.8100\n",
      "Epoch 76/1000\n",
      "13/13 [==============================] - 0s 37ms/step - loss: 0.9551 - accuracy: 0.9650 - val_loss: 1.6368 - val_accuracy: 0.8300\n",
      "Epoch 77/1000\n",
      "13/13 [==============================] - 0s 37ms/step - loss: 0.8938 - accuracy: 0.9700 - val_loss: 1.2826 - val_accuracy: 0.8900\n",
      "Epoch 78/1000\n",
      "13/13 [==============================] - 0s 36ms/step - loss: 0.8209 - accuracy: 0.9750 - val_loss: 1.2309 - val_accuracy: 0.8700\n",
      "Epoch 79/1000\n",
      "13/13 [==============================] - 0s 37ms/step - loss: 0.7514 - accuracy: 0.9875 - val_loss: 1.2207 - val_accuracy: 0.8700\n",
      "Epoch 80/1000\n",
      "13/13 [==============================] - 0s 37ms/step - loss: 0.7676 - accuracy: 0.9650 - val_loss: 2.4343 - val_accuracy: 0.7600\n",
      "Epoch 81/1000\n",
      "13/13 [==============================] - 0s 40ms/step - loss: 0.8346 - accuracy: 0.9350 - val_loss: 0.9606 - val_accuracy: 0.9000\n",
      "Epoch 82/1000\n",
      "13/13 [==============================] - 0s 37ms/step - loss: 0.8038 - accuracy: 0.9575 - val_loss: 1.2854 - val_accuracy: 0.8500\n",
      "Epoch 83/1000\n",
      "13/13 [==============================] - 0s 38ms/step - loss: 0.8209 - accuracy: 0.9675 - val_loss: 1.2757 - val_accuracy: 0.8200\n",
      "Epoch 84/1000\n",
      "13/13 [==============================] - 0s 36ms/step - loss: 0.7764 - accuracy: 0.9675 - val_loss: 1.3589 - val_accuracy: 0.8200\n",
      "Epoch 85/1000\n",
      "13/13 [==============================] - 0s 39ms/step - loss: 0.8134 - accuracy: 0.9500 - val_loss: 1.1581 - val_accuracy: 0.8600\n",
      "Epoch 86/1000\n",
      "13/13 [==============================] - 0s 36ms/step - loss: 0.8228 - accuracy: 0.9450 - val_loss: 1.2227 - val_accuracy: 0.8900\n",
      "Epoch 87/1000\n",
      "13/13 [==============================] - 0s 39ms/step - loss: 0.7857 - accuracy: 0.9650 - val_loss: 1.1905 - val_accuracy: 0.8600\n",
      "Epoch 88/1000\n",
      "13/13 [==============================] - 0s 38ms/step - loss: 0.7679 - accuracy: 0.9750 - val_loss: 1.1143 - val_accuracy: 0.8600\n",
      "Epoch 89/1000\n",
      "13/13 [==============================] - 0s 38ms/step - loss: 0.7125 - accuracy: 0.9900 - val_loss: 1.1007 - val_accuracy: 0.9000\n",
      "Epoch 90/1000\n",
      "13/13 [==============================] - 0s 38ms/step - loss: 0.7188 - accuracy: 0.9800 - val_loss: 1.1003 - val_accuracy: 0.8800\n",
      "Epoch 91/1000\n",
      "13/13 [==============================] - 0s 38ms/step - loss: 0.7389 - accuracy: 0.9625 - val_loss: 1.0507 - val_accuracy: 0.8900\n",
      "Epoch 92/1000\n",
      "13/13 [==============================] - 1s 43ms/step - loss: 0.7396 - accuracy: 0.9625 - val_loss: 1.3186 - val_accuracy: 0.8300\n",
      "Epoch 93/1000\n",
      "13/13 [==============================] - 0s 38ms/step - loss: 0.7548 - accuracy: 0.9600 - val_loss: 1.4456 - val_accuracy: 0.8400\n",
      "Epoch 94/1000\n",
      "13/13 [==============================] - 0s 38ms/step - loss: 0.7467 - accuracy: 0.9625 - val_loss: 1.1375 - val_accuracy: 0.8700\n",
      "Epoch 95/1000\n",
      "13/13 [==============================] - 0s 36ms/step - loss: 0.6912 - accuracy: 0.9900 - val_loss: 1.1715 - val_accuracy: 0.8900\n",
      "Epoch 96/1000\n",
      "13/13 [==============================] - 0s 38ms/step - loss: 0.7618 - accuracy: 0.9600 - val_loss: 1.4502 - val_accuracy: 0.8500\n",
      "Epoch 97/1000\n",
      "13/13 [==============================] - 0s 36ms/step - loss: 0.8583 - accuracy: 0.9400 - val_loss: 1.1779 - val_accuracy: 0.8500\n",
      "Epoch 98/1000\n",
      "13/13 [==============================] - 0s 39ms/step - loss: 0.7967 - accuracy: 0.9650 - val_loss: 1.2789 - val_accuracy: 0.8300\n",
      "Epoch 99/1000\n",
      "13/13 [==============================] - 0s 36ms/step - loss: 0.7803 - accuracy: 0.9700 - val_loss: 1.0351 - val_accuracy: 0.9000\n",
      "Epoch 100/1000\n",
      "13/13 [==============================] - 0s 37ms/step - loss: 0.7690 - accuracy: 0.9725 - val_loss: 1.2029 - val_accuracy: 0.8800\n",
      "Epoch 101/1000\n",
      "13/13 [==============================] - 0s 37ms/step - loss: 0.7194 - accuracy: 0.9825 - val_loss: 1.3779 - val_accuracy: 0.8500\n"
     ]
    }
   ],
   "source": [
    "with tf.device('/GPU:0'):\n",
    "    early_stopping = EarlyStopping(\n",
    "    monitor='val_loss',        \n",
    "    patience=20,                \n",
    "    min_delta=0.001,  \n",
    "    restore_best_weights=True\n",
    "    )\n",
    "    history = cnn_model.fit(\n",
    "        X_train, y_train,\n",
    "        validation_data=(X_val, y_val),\n",
    "        epochs=EPOCHS,\n",
    "        callbacks=[tensorboard_callback, early_stopping]\n",
    "    )"
   ]
  },
  {
   "cell_type": "code",
   "execution_count": 250,
   "id": "7a1042bc-583c-48e3-881a-bd35e875533f",
   "metadata": {
    "tags": []
   },
   "outputs": [
    {
     "name": "stdout",
     "output_type": "stream",
     "text": [
      "4/4 [==============================] - 0s 4ms/step - loss: 0.9606 - accuracy: 0.9000\n",
      "Validation Loss: 0.9606, Validation Accuracy: 0.9000\n"
     ]
    }
   ],
   "source": [
    "loss, accuracy = cnn_model.evaluate(X_val, y_val)\n",
    "print(f\"Validation Loss: {loss:.4f}, Validation Accuracy: {accuracy:.4f}\")"
   ]
  },
  {
   "cell_type": "markdown",
   "id": "05a673bc-d1f3-4f81-9796-3cb305e682dd",
   "metadata": {
    "tags": []
   },
   "source": [
    "# Embeddings Visualisation"
   ]
  },
  {
   "cell_type": "code",
   "execution_count": 251,
   "id": "fddcc115-4893-4eaa-9935-13a4f4c63898",
   "metadata": {
    "tags": []
   },
   "outputs": [
    {
     "name": "stdout",
     "output_type": "stream",
     "text": [
      "13/13 [==============================] - 0s 1ms/step\n",
      "4/4 [==============================] - 0s 2ms/step\n"
     ]
    }
   ],
   "source": [
    "X_train_embeddings = embedding_model.predict(X_train)\n",
    "X_val_embeddings = embedding_model.predict(X_val)"
   ]
  },
  {
   "cell_type": "code",
   "execution_count": 252,
   "id": "0780ec85-d68e-44d6-bdea-a75d2b0591c9",
   "metadata": {
    "tags": []
   },
   "outputs": [],
   "source": [
    "embeddings = np.concatenate([X_train_embeddings, X_val_embeddings])\n",
    "labels = np.concatenate([y_train, y_val])"
   ]
  },
  {
   "cell_type": "code",
   "execution_count": 253,
   "id": "69796054-4ee2-46b8-a143-8b4d2e99c44a",
   "metadata": {
    "tags": []
   },
   "outputs": [
    {
     "name": "stderr",
     "output_type": "stream",
     "text": [
      "E:\\ProgramFiles\\Anaconda\\envs\\NEW_GPU\\lib\\site-packages\\sklearn\\manifold\\_t_sne.py:783: FutureWarning: The default initialization in TSNE will change from 'random' to 'pca' in 1.2.\n",
      "  FutureWarning,\n",
      "E:\\ProgramFiles\\Anaconda\\envs\\NEW_GPU\\lib\\site-packages\\sklearn\\manifold\\_t_sne.py:793: FutureWarning: The default learning rate in TSNE will change from 200.0 to 'auto' in 1.2.\n",
      "  FutureWarning,\n"
     ]
    }
   ],
   "source": [
    "tsne = TSNE(n_components=2, random_state=42, perplexity=30)\n",
    "reduced_embeddings = tsne.fit_transform(embeddings)"
   ]
  },
  {
   "cell_type": "code",
   "execution_count": 254,
   "id": "c49da74f-b11c-403c-9910-16a09fd9bd14",
   "metadata": {
    "tags": []
   },
   "outputs": [],
   "source": [
    "if labels.shape[1] > 1:\n",
    "    labels = np.argmax(labels, axis=1)\n"
   ]
  },
  {
   "cell_type": "code",
   "execution_count": 255,
   "id": "fdaa3175-75f1-40a1-8a72-6db82d300689",
   "metadata": {
    "tags": []
   },
   "outputs": [
    {
     "data": {
      "image/png": "[encoded data removed]",
      "text/plain": [
       "<Figure size 1000x800 with 2 Axes>"
      ]
     },
     "metadata": {},
     "output_type": "display_data"
    }
   ],
   "source": [
    "plt.figure(figsize=(10, 8))\n",
    "plt.scatter(reduced_embeddings[:, 0], reduced_embeddings[:, 1], c=labels, cmap='viridis', s=5)\n",
    "plt.colorbar(label='Class')\n",
    "plt.title('2D Visualization of Audio Embeddings')\n",
    "plt.show()"
   ]
  }
 ],
 "metadata": {
  "kernelspec": {
   "display_name": "TF_ENV (GPU)",
   "language": "python",
   "name": "new_gpu"
  },
  "language_info": {
   "codemirror_mode": {
    "name": "ipython",
    "version": 3
   },
   "file_extension": ".py",
   "mimetype": "text/x-python",
   "name": "python",
   "nbconvert_exporter": "python",
   "pygments_lexer": "ipython3",
   "version": "3.7.12"
  }
 },
 "nbformat": 4,
 "nbformat_minor": 5
}
